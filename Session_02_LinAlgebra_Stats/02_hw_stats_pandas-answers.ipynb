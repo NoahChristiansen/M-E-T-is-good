{
 "cells": [
  {
   "cell_type": "code",
   "execution_count": 56,
   "metadata": {},
   "outputs": [],
   "source": [
    "import numpy as np\n",
    "import pandas as pd\n",
    "import seaborn as sns\n",
    "import matplotlib.pyplot as plt\n",
    "%matplotlib inline\n",
    "import requests"
   ]
  },
  {
   "cell_type": "markdown",
   "metadata": {},
   "source": [
    "# Linear Algebra and Stats in Python (Using Pandas) - Answers\n",
    "## Outline of this notebook\n",
    "\n",
    "**Using pandas...**\n",
    "\n",
    "* **getting some data**\n",
    "* **mean, median, mode**\n",
    "* **variance and standard deviation**\n",
    "* **covariance and correlation**\n",
    "* **histograms**\n",
    "* **scatter plots**"
   ]
  },
  {
   "cell_type": "markdown",
   "metadata": {},
   "source": [
    "## Importing Data\n",
    "\n",
    "The sklearn.datasets package embeds some small toy datasets, which makes them very easy to obtain. Read more about them [here](http://scikit-learn.org/stable/datasets/index.html)."
   ]
  },
  {
   "cell_type": "code",
   "execution_count": 140,
   "metadata": {
    "collapsed": true
   },
   "outputs": [],
   "source": [
    "from sklearn.datasets import load_iris\n",
    "\n",
    "# save load_iris() sklearn dataset to iris_raw_data\n",
    "# if you'd like to check dataset type use: type(load_iris())\n",
    "# if you'd like to view list of attributes use: dir(load_iris())\n",
    "iris_data_raw = load_iris()\n",
    "\n",
    "# np.c_ is the numpy concatenate function\n",
    "# which is used to concat iris['data'] and iris['target'] arrays \n",
    "# for pandas column argument: concat iris['feature_names'] list\n",
    "# and string list (in this case one string); you can make this anything you'd like..  \n",
    "# the original dataset would probably call this ['Species']\n",
    "iris_df = pd.DataFrame(data= np.c_[iris_data_raw['data'], iris_data_raw['target']],\n",
    "                     columns= iris_data_raw['feature_names'] + ['species'])"
   ]
  },
  {
   "cell_type": "code",
   "execution_count": 141,
   "metadata": {},
   "outputs": [
    {
     "data": {
      "text/html": [
       "<div>\n",
       "<style>\n",
       "    .dataframe thead tr:only-child th {\n",
       "        text-align: right;\n",
       "    }\n",
       "\n",
       "    .dataframe thead th {\n",
       "        text-align: left;\n",
       "    }\n",
       "\n",
       "    .dataframe tbody tr th {\n",
       "        vertical-align: top;\n",
       "    }\n",
       "</style>\n",
       "<table border=\"1\" class=\"dataframe\">\n",
       "  <thead>\n",
       "    <tr style=\"text-align: right;\">\n",
       "      <th></th>\n",
       "      <th>sepal length (cm)</th>\n",
       "      <th>sepal width (cm)</th>\n",
       "      <th>petal length (cm)</th>\n",
       "      <th>petal width (cm)</th>\n",
       "      <th>species</th>\n",
       "    </tr>\n",
       "  </thead>\n",
       "  <tbody>\n",
       "    <tr>\n",
       "      <th>0</th>\n",
       "      <td>5.1</td>\n",
       "      <td>3.5</td>\n",
       "      <td>1.4</td>\n",
       "      <td>0.2</td>\n",
       "      <td>0.0</td>\n",
       "    </tr>\n",
       "    <tr>\n",
       "      <th>1</th>\n",
       "      <td>4.9</td>\n",
       "      <td>3.0</td>\n",
       "      <td>1.4</td>\n",
       "      <td>0.2</td>\n",
       "      <td>0.0</td>\n",
       "    </tr>\n",
       "    <tr>\n",
       "      <th>2</th>\n",
       "      <td>4.7</td>\n",
       "      <td>3.2</td>\n",
       "      <td>1.3</td>\n",
       "      <td>0.2</td>\n",
       "      <td>0.0</td>\n",
       "    </tr>\n",
       "    <tr>\n",
       "      <th>3</th>\n",
       "      <td>4.6</td>\n",
       "      <td>3.1</td>\n",
       "      <td>1.5</td>\n",
       "      <td>0.2</td>\n",
       "      <td>0.0</td>\n",
       "    </tr>\n",
       "    <tr>\n",
       "      <th>4</th>\n",
       "      <td>5.0</td>\n",
       "      <td>3.6</td>\n",
       "      <td>1.4</td>\n",
       "      <td>0.2</td>\n",
       "      <td>0.0</td>\n",
       "    </tr>\n",
       "  </tbody>\n",
       "</table>\n",
       "</div>"
      ],
      "text/plain": [
       "   sepal length (cm)  sepal width (cm)  petal length (cm)  petal width (cm)  \\\n",
       "0                5.1               3.5                1.4               0.2   \n",
       "1                4.9               3.0                1.4               0.2   \n",
       "2                4.7               3.2                1.3               0.2   \n",
       "3                4.6               3.1                1.5               0.2   \n",
       "4                5.0               3.6                1.4               0.2   \n",
       "\n",
       "   species  \n",
       "0      0.0  \n",
       "1      0.0  \n",
       "2      0.0  \n",
       "3      0.0  \n",
       "4      0.0  "
      ]
     },
     "execution_count": 141,
     "metadata": {},
     "output_type": "execute_result"
    }
   ],
   "source": [
    "iris_df.head()"
   ]
  },
  {
   "cell_type": "markdown",
   "metadata": {},
   "source": [
    "### Cleaning things up\n",
    "\n",
    "I've decided I'd like to change the species column from a number (which represents a certain species of Iris), to the actual species. I can do this using the map functionality.\n",
    "\n",
    "This is a personal choice and isn't necessary.\n",
    "\n",
    "You can read more about map [here](https://pandas.pydata.org/pandas-docs/stable/generated/pandas.Series.map.html)."
   ]
  },
  {
   "cell_type": "code",
   "execution_count": 142,
   "metadata": {},
   "outputs": [],
   "source": [
    "iris_type = {\n",
    "    0.0: 'Iris Setosa',\n",
    "    1.0: 'Iris Versicolour',\n",
    "    2.0: 'Iris Virginica'\n",
    "}\n",
    "    \n",
    "iris_df['species'] = iris_df['species'].map(iris_type)"
   ]
  },
  {
   "cell_type": "code",
   "execution_count": 143,
   "metadata": {},
   "outputs": [
    {
     "data": {
      "text/html": [
       "<div>\n",
       "<style>\n",
       "    .dataframe thead tr:only-child th {\n",
       "        text-align: right;\n",
       "    }\n",
       "\n",
       "    .dataframe thead th {\n",
       "        text-align: left;\n",
       "    }\n",
       "\n",
       "    .dataframe tbody tr th {\n",
       "        vertical-align: top;\n",
       "    }\n",
       "</style>\n",
       "<table border=\"1\" class=\"dataframe\">\n",
       "  <thead>\n",
       "    <tr style=\"text-align: right;\">\n",
       "      <th></th>\n",
       "      <th>sepal length (cm)</th>\n",
       "      <th>sepal width (cm)</th>\n",
       "      <th>petal length (cm)</th>\n",
       "      <th>petal width (cm)</th>\n",
       "      <th>species</th>\n",
       "    </tr>\n",
       "  </thead>\n",
       "  <tbody>\n",
       "    <tr>\n",
       "      <th>0</th>\n",
       "      <td>5.1</td>\n",
       "      <td>3.5</td>\n",
       "      <td>1.4</td>\n",
       "      <td>0.2</td>\n",
       "      <td>Iris Setosa</td>\n",
       "    </tr>\n",
       "    <tr>\n",
       "      <th>1</th>\n",
       "      <td>4.9</td>\n",
       "      <td>3.0</td>\n",
       "      <td>1.4</td>\n",
       "      <td>0.2</td>\n",
       "      <td>Iris Setosa</td>\n",
       "    </tr>\n",
       "    <tr>\n",
       "      <th>2</th>\n",
       "      <td>4.7</td>\n",
       "      <td>3.2</td>\n",
       "      <td>1.3</td>\n",
       "      <td>0.2</td>\n",
       "      <td>Iris Setosa</td>\n",
       "    </tr>\n",
       "    <tr>\n",
       "      <th>3</th>\n",
       "      <td>4.6</td>\n",
       "      <td>3.1</td>\n",
       "      <td>1.5</td>\n",
       "      <td>0.2</td>\n",
       "      <td>Iris Setosa</td>\n",
       "    </tr>\n",
       "    <tr>\n",
       "      <th>4</th>\n",
       "      <td>5.0</td>\n",
       "      <td>3.6</td>\n",
       "      <td>1.4</td>\n",
       "      <td>0.2</td>\n",
       "      <td>Iris Setosa</td>\n",
       "    </tr>\n",
       "  </tbody>\n",
       "</table>\n",
       "</div>"
      ],
      "text/plain": [
       "   sepal length (cm)  sepal width (cm)  petal length (cm)  petal width (cm)  \\\n",
       "0                5.1               3.5                1.4               0.2   \n",
       "1                4.9               3.0                1.4               0.2   \n",
       "2                4.7               3.2                1.3               0.2   \n",
       "3                4.6               3.1                1.5               0.2   \n",
       "4                5.0               3.6                1.4               0.2   \n",
       "\n",
       "       species  \n",
       "0  Iris Setosa  \n",
       "1  Iris Setosa  \n",
       "2  Iris Setosa  \n",
       "3  Iris Setosa  \n",
       "4  Iris Setosa  "
      ]
     },
     "execution_count": 143,
     "metadata": {},
     "output_type": "execute_result"
    }
   ],
   "source": [
    "iris_df.head()"
   ]
  },
  {
   "cell_type": "markdown",
   "metadata": {},
   "source": [
    "### Cleaning things up\n",
    "\n",
    "I've decided to change the column names to make them easier to call later. Read through to get a sense of what's happening."
   ]
  },
  {
   "cell_type": "code",
   "execution_count": 144,
   "metadata": {
    "collapsed": true
   },
   "outputs": [],
   "source": [
    "iris_df = iris_df.rename(columns={\n",
    "    'sepal length (cm)': 'sep_length',\n",
    "    'sepal width (cm)': 'sep_width',\n",
    "    'petal length (cm)': 'pet_length',\n",
    "    'petal width (cm)': 'pet_width',\n",
    "    'target': 'iris_type'\n",
    "})"
   ]
  },
  {
   "cell_type": "code",
   "execution_count": 145,
   "metadata": {},
   "outputs": [
    {
     "data": {
      "text/html": [
       "<div>\n",
       "<style>\n",
       "    .dataframe thead tr:only-child th {\n",
       "        text-align: right;\n",
       "    }\n",
       "\n",
       "    .dataframe thead th {\n",
       "        text-align: left;\n",
       "    }\n",
       "\n",
       "    .dataframe tbody tr th {\n",
       "        vertical-align: top;\n",
       "    }\n",
       "</style>\n",
       "<table border=\"1\" class=\"dataframe\">\n",
       "  <thead>\n",
       "    <tr style=\"text-align: right;\">\n",
       "      <th></th>\n",
       "      <th>sep_length</th>\n",
       "      <th>sep_width</th>\n",
       "      <th>pet_length</th>\n",
       "      <th>pet_width</th>\n",
       "      <th>species</th>\n",
       "    </tr>\n",
       "  </thead>\n",
       "  <tbody>\n",
       "    <tr>\n",
       "      <th>0</th>\n",
       "      <td>5.1</td>\n",
       "      <td>3.5</td>\n",
       "      <td>1.4</td>\n",
       "      <td>0.2</td>\n",
       "      <td>Iris Setosa</td>\n",
       "    </tr>\n",
       "    <tr>\n",
       "      <th>1</th>\n",
       "      <td>4.9</td>\n",
       "      <td>3.0</td>\n",
       "      <td>1.4</td>\n",
       "      <td>0.2</td>\n",
       "      <td>Iris Setosa</td>\n",
       "    </tr>\n",
       "    <tr>\n",
       "      <th>2</th>\n",
       "      <td>4.7</td>\n",
       "      <td>3.2</td>\n",
       "      <td>1.3</td>\n",
       "      <td>0.2</td>\n",
       "      <td>Iris Setosa</td>\n",
       "    </tr>\n",
       "    <tr>\n",
       "      <th>3</th>\n",
       "      <td>4.6</td>\n",
       "      <td>3.1</td>\n",
       "      <td>1.5</td>\n",
       "      <td>0.2</td>\n",
       "      <td>Iris Setosa</td>\n",
       "    </tr>\n",
       "    <tr>\n",
       "      <th>4</th>\n",
       "      <td>5.0</td>\n",
       "      <td>3.6</td>\n",
       "      <td>1.4</td>\n",
       "      <td>0.2</td>\n",
       "      <td>Iris Setosa</td>\n",
       "    </tr>\n",
       "  </tbody>\n",
       "</table>\n",
       "</div>"
      ],
      "text/plain": [
       "   sep_length  sep_width  pet_length  pet_width      species\n",
       "0         5.1        3.5         1.4        0.2  Iris Setosa\n",
       "1         4.9        3.0         1.4        0.2  Iris Setosa\n",
       "2         4.7        3.2         1.3        0.2  Iris Setosa\n",
       "3         4.6        3.1         1.5        0.2  Iris Setosa\n",
       "4         5.0        3.6         1.4        0.2  Iris Setosa"
      ]
     },
     "execution_count": 145,
     "metadata": {},
     "output_type": "execute_result"
    }
   ],
   "source": [
    "iris_df.head()"
   ]
  },
  {
   "cell_type": "markdown",
   "metadata": {},
   "source": [
    "### Let's explore the data a bit..."
   ]
  },
  {
   "cell_type": "code",
   "execution_count": 147,
   "metadata": {
    "scrolled": true
   },
   "outputs": [
    {
     "data": {
      "text/plain": [
       "sep_length    float64\n",
       "sep_width     float64\n",
       "pet_length    float64\n",
       "pet_width     float64\n",
       "species        object\n",
       "dtype: object"
      ]
     },
     "execution_count": 147,
     "metadata": {},
     "output_type": "execute_result"
    }
   ],
   "source": [
    "iris_df.dtypes"
   ]
  },
  {
   "cell_type": "code",
   "execution_count": 148,
   "metadata": {},
   "outputs": [
    {
     "data": {
      "text/html": [
       "<div>\n",
       "<style>\n",
       "    .dataframe thead tr:only-child th {\n",
       "        text-align: right;\n",
       "    }\n",
       "\n",
       "    .dataframe thead th {\n",
       "        text-align: left;\n",
       "    }\n",
       "\n",
       "    .dataframe tbody tr th {\n",
       "        vertical-align: top;\n",
       "    }\n",
       "</style>\n",
       "<table border=\"1\" class=\"dataframe\">\n",
       "  <thead>\n",
       "    <tr style=\"text-align: right;\">\n",
       "      <th></th>\n",
       "      <th>sep_length</th>\n",
       "      <th>sep_width</th>\n",
       "      <th>pet_length</th>\n",
       "      <th>pet_width</th>\n",
       "    </tr>\n",
       "  </thead>\n",
       "  <tbody>\n",
       "    <tr>\n",
       "      <th>count</th>\n",
       "      <td>150.000000</td>\n",
       "      <td>150.000000</td>\n",
       "      <td>150.000000</td>\n",
       "      <td>150.000000</td>\n",
       "    </tr>\n",
       "    <tr>\n",
       "      <th>mean</th>\n",
       "      <td>5.843333</td>\n",
       "      <td>3.054000</td>\n",
       "      <td>3.758667</td>\n",
       "      <td>1.198667</td>\n",
       "    </tr>\n",
       "    <tr>\n",
       "      <th>std</th>\n",
       "      <td>0.828066</td>\n",
       "      <td>0.433594</td>\n",
       "      <td>1.764420</td>\n",
       "      <td>0.763161</td>\n",
       "    </tr>\n",
       "    <tr>\n",
       "      <th>min</th>\n",
       "      <td>4.300000</td>\n",
       "      <td>2.000000</td>\n",
       "      <td>1.000000</td>\n",
       "      <td>0.100000</td>\n",
       "    </tr>\n",
       "    <tr>\n",
       "      <th>25%</th>\n",
       "      <td>5.100000</td>\n",
       "      <td>2.800000</td>\n",
       "      <td>1.600000</td>\n",
       "      <td>0.300000</td>\n",
       "    </tr>\n",
       "    <tr>\n",
       "      <th>50%</th>\n",
       "      <td>5.800000</td>\n",
       "      <td>3.000000</td>\n",
       "      <td>4.350000</td>\n",
       "      <td>1.300000</td>\n",
       "    </tr>\n",
       "    <tr>\n",
       "      <th>75%</th>\n",
       "      <td>6.400000</td>\n",
       "      <td>3.300000</td>\n",
       "      <td>5.100000</td>\n",
       "      <td>1.800000</td>\n",
       "    </tr>\n",
       "    <tr>\n",
       "      <th>max</th>\n",
       "      <td>7.900000</td>\n",
       "      <td>4.400000</td>\n",
       "      <td>6.900000</td>\n",
       "      <td>2.500000</td>\n",
       "    </tr>\n",
       "  </tbody>\n",
       "</table>\n",
       "</div>"
      ],
      "text/plain": [
       "       sep_length   sep_width  pet_length   pet_width\n",
       "count  150.000000  150.000000  150.000000  150.000000\n",
       "mean     5.843333    3.054000    3.758667    1.198667\n",
       "std      0.828066    0.433594    1.764420    0.763161\n",
       "min      4.300000    2.000000    1.000000    0.100000\n",
       "25%      5.100000    2.800000    1.600000    0.300000\n",
       "50%      5.800000    3.000000    4.350000    1.300000\n",
       "75%      6.400000    3.300000    5.100000    1.800000\n",
       "max      7.900000    4.400000    6.900000    2.500000"
      ]
     },
     "execution_count": 148,
     "metadata": {},
     "output_type": "execute_result"
    }
   ],
   "source": [
    "iris_df.describe()"
   ]
  },
  {
   "cell_type": "code",
   "execution_count": 149,
   "metadata": {
    "scrolled": true
   },
   "outputs": [
    {
     "name": "stdout",
     "output_type": "stream",
     "text": [
      "<class 'pandas.core.frame.DataFrame'>\n",
      "RangeIndex: 150 entries, 0 to 149\n",
      "Data columns (total 5 columns):\n",
      "sep_length    150 non-null float64\n",
      "sep_width     150 non-null float64\n",
      "pet_length    150 non-null float64\n",
      "pet_width     150 non-null float64\n",
      "species       150 non-null object\n",
      "dtypes: float64(4), object(1)\n",
      "memory usage: 5.9+ KB\n"
     ]
    }
   ],
   "source": [
    "iris_df.info()"
   ]
  },
  {
   "cell_type": "markdown",
   "metadata": {},
   "source": [
    "## Mean, Median, Mode\n",
    "\n",
    "The **mean** is the arithmetic average of a group of values, found by dividing the total of all values by the number of values.\n",
    "\n",
    "The **median** is the middle value in a group of values, found by ordering the values from smallest to largest and locating the one that occurs in the middle. If the size of the group is even, it is found by averaging the middle two values.\n",
    "\n",
    "The **mode** is the value that occurs most often in a group of values, and is found by counting the frequency of every distinct value in the group and outputting the one that occurs most frequently.\n",
    "\n",
    "In pandas, these are found by running:\n",
    "\n",
    "- `DataFrame.mean()`\n",
    "- `DataFrame.median()`\n",
    "- `DataFrame.mode()`\n",
    "\n",
    "**Your turn! Find the mean, median, and mode of each column in the pandas dataframe `iris_df`.**"
   ]
  },
  {
   "cell_type": "code",
   "execution_count": 116,
   "metadata": {},
   "outputs": [
    {
     "data": {
      "text/plain": [
       "sep_length    5.843333\n",
       "sep_width     3.054000\n",
       "pet_length    3.758667\n",
       "pet_width     1.198667\n",
       "dtype: float64"
      ]
     },
     "execution_count": 116,
     "metadata": {},
     "output_type": "execute_result"
    }
   ],
   "source": [
    "iris_df.mean()"
   ]
  },
  {
   "cell_type": "code",
   "execution_count": 119,
   "metadata": {},
   "outputs": [
    {
     "data": {
      "text/plain": [
       "sep_length    5.80\n",
       "sep_width     3.00\n",
       "pet_length    4.35\n",
       "pet_width     1.30\n",
       "dtype: float64"
      ]
     },
     "execution_count": 119,
     "metadata": {},
     "output_type": "execute_result"
    }
   ],
   "source": [
    "iris_df.median()"
   ]
  },
  {
   "cell_type": "code",
   "execution_count": 117,
   "metadata": {},
   "outputs": [
    {
     "data": {
      "text/html": [
       "<div>\n",
       "<style>\n",
       "    .dataframe thead tr:only-child th {\n",
       "        text-align: right;\n",
       "    }\n",
       "\n",
       "    .dataframe thead th {\n",
       "        text-align: left;\n",
       "    }\n",
       "\n",
       "    .dataframe tbody tr th {\n",
       "        vertical-align: top;\n",
       "    }\n",
       "</style>\n",
       "<table border=\"1\" class=\"dataframe\">\n",
       "  <thead>\n",
       "    <tr style=\"text-align: right;\">\n",
       "      <th></th>\n",
       "      <th>sep_length</th>\n",
       "      <th>sep_width</th>\n",
       "      <th>pet_length</th>\n",
       "      <th>pet_width</th>\n",
       "      <th>species</th>\n",
       "    </tr>\n",
       "  </thead>\n",
       "  <tbody>\n",
       "    <tr>\n",
       "      <th>0</th>\n",
       "      <td>5.0</td>\n",
       "      <td>3.0</td>\n",
       "      <td>1.5</td>\n",
       "      <td>0.2</td>\n",
       "      <td>Iris Setosa</td>\n",
       "    </tr>\n",
       "    <tr>\n",
       "      <th>1</th>\n",
       "      <td>NaN</td>\n",
       "      <td>NaN</td>\n",
       "      <td>NaN</td>\n",
       "      <td>NaN</td>\n",
       "      <td>Iris Versicolour</td>\n",
       "    </tr>\n",
       "    <tr>\n",
       "      <th>2</th>\n",
       "      <td>NaN</td>\n",
       "      <td>NaN</td>\n",
       "      <td>NaN</td>\n",
       "      <td>NaN</td>\n",
       "      <td>Iris Virginica</td>\n",
       "    </tr>\n",
       "  </tbody>\n",
       "</table>\n",
       "</div>"
      ],
      "text/plain": [
       "   sep_length  sep_width  pet_length  pet_width           species\n",
       "0         5.0        3.0         1.5        0.2       Iris Setosa\n",
       "1         NaN        NaN         NaN        NaN  Iris Versicolour\n",
       "2         NaN        NaN         NaN        NaN    Iris Virginica"
      ]
     },
     "execution_count": 117,
     "metadata": {},
     "output_type": "execute_result"
    }
   ],
   "source": [
    "iris_df.mode()"
   ]
  },
  {
   "cell_type": "markdown",
   "metadata": {},
   "source": [
    "You might be wondering why species ended up with three answers while the others only have one. Remember, there are 50 rows each for each species of Iris. Therefore, each Iris species is listed the same amount of times."
   ]
  },
  {
   "cell_type": "markdown",
   "metadata": {},
   "source": [
    "## Variance and Standard Deviation\n",
    "\n",
    "It is useful to get a sense of how the values in a dataset are spread about the average or the central value in that dataset. **Variance** and **standard deviation** are values that quantify that spread.\n",
    "\n",
    "The **variance** of a set of values, **$\\sigma^2$**, is the average of the square of the difference of the values in the dataset from the dataset's mean:\n",
    "\n",
    "\\begin{align}\n",
    "\\sigma^2 = \\frac{\\sum_{i=1}^{n}(x_i - \\mu)^2} {n}\\\n",
    "\\end{align}\n",
    "\n",
    "We square the differences to preserve the magnitude of the difference only (otherwise we would be adding and subtracting values, and lose the average magnitude). So, the variance is not on the same scale as the values themselves.\n",
    "\n",
    "In pandas, variance is found by running:\n",
    "\n",
    "`DataFrame.var()`\n",
    "\n",
    "**Find the variance of each column in the iris_df dataframe.**"
   ]
  },
  {
   "cell_type": "code",
   "execution_count": 120,
   "metadata": {},
   "outputs": [
    {
     "data": {
      "text/plain": [
       "sep_length    0.685694\n",
       "sep_width     0.188004\n",
       "pet_length    3.113179\n",
       "pet_width     0.582414\n",
       "dtype: float64"
      ]
     },
     "execution_count": 120,
     "metadata": {},
     "output_type": "execute_result"
    }
   ],
   "source": [
    "iris_df.var()"
   ]
  },
  {
   "cell_type": "markdown",
   "metadata": {},
   "source": [
    "### Variance step by step\n",
    "\n",
    "At this point, I'd like to break down variance into a for-loop so that one can see/disect each individual step that is happening. It will also give you some exposure to for-loops! \n",
    "\n",
    "**Walk through this loop and try to get an understanding for what's happening.**"
   ]
  },
  {
   "cell_type": "code",
   "execution_count": 122,
   "metadata": {},
   "outputs": [],
   "source": [
    "col_list = ['sep_length', 'sep_width', 'pet_length', 'pet_width']\n",
    "\n",
    "iris_variance_dictionary = {}\n",
    "\n",
    "\n",
    "for col in col_list:\n",
    "# This line is saying \"for each element in the column list\"\n",
    "# In other words, take the first element and run through all these steps, then take the second and do the same, third, and so on\n",
    "    mean = iris_df[col].mean()\n",
    "    # Find the mean of that column. \n",
    "    # So for the first time through, col = 'sep_length' and you're finding the mean of the 'sep_length' column\n",
    "    value_minus_mean_squared_list = []\n",
    "    # Creates an empty list, which you will later fil with value_minus_mean_squared values\n",
    "    for i, row in iris_df.iterrows():\n",
    "    # Here, I'm looping through each row of the dataframe, one at a time.\n",
    "    # So, each time through this imbedded for-loop, you are at the next row in the dataframe.\n",
    "        value_minus_mean_squared = (row[col] - mean)**2\n",
    "        # take the value of that row at the specified column (sep_length for the first time through the main for-loop), subtract the mean, and square the result\n",
    "        value_minus_mean_squared_list.append(value_minus_mean_squared)\n",
    "        #append the value you found to the list you're keeping. \n",
    "        #After this embedded for-loop has gone through the entire dataframe, you will have as many value_minus_mean_squared values in the array as there are rows\n",
    "    value_minus_mean_squared_sum = sum(value_minus_mean_squared_list)\n",
    "    #determine the sum of all the value_minus_mean_squared values\n",
    "    list_length = len(iris_df[col])\n",
    "    #determine the amount of values\n",
    "    variance = value_minus_mean_squared_sum / list_length\n",
    "    #calculate the variance for that column you're on (for the first run through, 'sep_length' column)\n",
    "    \n",
    "    iris_variance_dictionary[col] = variance\n",
    "    #Add the new value to the dictionary"
   ]
  },
  {
   "cell_type": "code",
   "execution_count": 123,
   "metadata": {},
   "outputs": [
    {
     "data": {
      "text/plain": [
       "{'pet_length': 3.092424888888889,\n",
       " 'pet_width': 0.57853155555555558,\n",
       " 'sep_length': 0.68112222222222207,\n",
       " 'sep_width': 0.18675066666666679}"
      ]
     },
     "execution_count": 123,
     "metadata": {},
     "output_type": "execute_result"
    }
   ],
   "source": [
    "iris_variance_dictionary"
   ]
  },
  {
   "cell_type": "markdown",
   "metadata": {},
   "source": [
    "### Standard Deviation\n",
    "\n",
    "The **standard deviation**, $\\sigma$, is the square root of the variance:\n",
    "\n",
    "\\begin{align}\n",
    "\\sigma = \\sqrt\\frac{\\sum_{i=1}^{n}(x_i - \\mu)^2} {n}\\\n",
    "\\end{align}\n",
    "\n",
    "We use the **standard deviation** much more regularly than the **variance** because it is on the same scale as the original data.\n",
    "\n",
    "In pandas, variance is found by running:\n",
    "\n",
    "`DataFrame.std()`\n",
    "\n",
    "**Find the std for each column in the iris_df dataframe**"
   ]
  },
  {
   "cell_type": "code",
   "execution_count": 150,
   "metadata": {},
   "outputs": [
    {
     "data": {
      "text/plain": [
       "sep_length    0.828066\n",
       "sep_width     0.433594\n",
       "pet_length    1.764420\n",
       "pet_width     0.763161\n",
       "dtype: float64"
      ]
     },
     "execution_count": 150,
     "metadata": {},
     "output_type": "execute_result"
    }
   ],
   "source": [
    "iris_df.std()"
   ]
  },
  {
   "cell_type": "markdown",
   "metadata": {},
   "source": [
    "### Standard Deviation Step by Step\n",
    "\n",
    "I will add a couple lines to make the above for-loop so that it will also calculate standard deviation and add it to a dictionary!"
   ]
  },
  {
   "cell_type": "code",
   "execution_count": 154,
   "metadata": {
    "collapsed": true
   },
   "outputs": [],
   "source": [
    "col_list = ['sep_length', 'sep_width', 'pet_length', 'pet_width']\n",
    "\n",
    "iris_variance_dictionary = {}\n",
    "\n",
    "iris_standard_deviation_dictionary = {}\n",
    "#Create standard deviation dictionary\n",
    "\n",
    "for col in col_list:\n",
    "    mean = iris_df[col].mean()\n",
    "    value_minus_mean_squared_list = []\n",
    "    for i, row in iris_df.iterrows():\n",
    "        value_minus_mean_squared = (row[col] - mean)**2\n",
    "        value_minus_mean_squared_list.append(value_minus_mean_squared)\n",
    "    value_minus_mean_squared_sum = sum(value_minus_mean_squared_list)\n",
    "    list_length = len(iris_df[col])\n",
    "    variance = value_minus_mean_squared_sum / list_length\n",
    "    standard_dev = np.sqrt(variance)\n",
    "    # calculate standard deviation\n",
    "    \n",
    "    iris_variance_dictionary[col] = variance\n",
    "    \n",
    "    iris_standard_deviation_dictionary[col] = standard_dev\n",
    "    #Add the new value to the dictionary"
   ]
  },
  {
   "cell_type": "code",
   "execution_count": 156,
   "metadata": {},
   "outputs": [
    {
     "data": {
      "text/plain": [
       "{'pet_length': 1.7585291834055212,\n",
       " 'pet_width': 0.76061261858817175,\n",
       " 'sep_length': 0.82530129178514078,\n",
       " 'sep_width': 0.43214658007054363}"
      ]
     },
     "execution_count": 156,
     "metadata": {},
     "output_type": "execute_result"
    }
   ],
   "source": [
    "iris_standard_deviation_dictionary"
   ]
  },
  {
   "cell_type": "markdown",
   "metadata": {},
   "source": [
    "## Covariance\n",
    "\n",
    "So far, we've been looking at statistical properties of individual collections of data (in our case, columns of the `iris_df` ) by themselves. However, it is also useful to quantify how two collections of data vary with each other. **Covariance** and **correlation** measure this exact quantity.\n",
    "\n",
    "**Covariance**, like the variance, is a measure of spread, however it also measures how closely two datasets track each other. That is, **covariance** describes both how far the variables are spread out, and the nature of their relationship, whether they tend to increase and decrease together, or whether they do not track each other at all. Like **variance**,  the **covariance** is a squared quantity (again, to simply measure the magnitude of the spread and to avoid subtracting numbers from each other) so it is not on the same scale as the mean (and the **covariance** of different pairs of variables can have completely different scales):\n",
    "\n",
    "\\begin{align}\n",
    "Cov(x,y) = \\frac{\\sum_{i=1}^{n}(x_i - \\mu_x)(y_i - \\mu_y)} {n}\\\n",
    "\\end{align}\n",
    "\n",
    "When we look at the covariance of a dataset, we compute what is called a **covariance matrix**.\n",
    "\n",
    "This matrix is symmetric and tells us what all the paired covariance values are for every pair of rows (or columns) in our original matrix.\n",
    "\n",
    "To find covariance in pandas, run:\n",
    "\n",
    "`DataFrame.cov()`\n",
    "\n",
    "**Find the covariance for each column against each column in the iris_df dataframe.**"
   ]
  },
  {
   "cell_type": "code",
   "execution_count": 124,
   "metadata": {},
   "outputs": [
    {
     "data": {
      "text/html": [
       "<div>\n",
       "<style>\n",
       "    .dataframe thead tr:only-child th {\n",
       "        text-align: right;\n",
       "    }\n",
       "\n",
       "    .dataframe thead th {\n",
       "        text-align: left;\n",
       "    }\n",
       "\n",
       "    .dataframe tbody tr th {\n",
       "        vertical-align: top;\n",
       "    }\n",
       "</style>\n",
       "<table border=\"1\" class=\"dataframe\">\n",
       "  <thead>\n",
       "    <tr style=\"text-align: right;\">\n",
       "      <th></th>\n",
       "      <th>sep_length</th>\n",
       "      <th>sep_width</th>\n",
       "      <th>pet_length</th>\n",
       "      <th>pet_width</th>\n",
       "    </tr>\n",
       "  </thead>\n",
       "  <tbody>\n",
       "    <tr>\n",
       "      <th>sep_length</th>\n",
       "      <td>0.685694</td>\n",
       "      <td>-0.039268</td>\n",
       "      <td>1.273682</td>\n",
       "      <td>0.516904</td>\n",
       "    </tr>\n",
       "    <tr>\n",
       "      <th>sep_width</th>\n",
       "      <td>-0.039268</td>\n",
       "      <td>0.188004</td>\n",
       "      <td>-0.321713</td>\n",
       "      <td>-0.117981</td>\n",
       "    </tr>\n",
       "    <tr>\n",
       "      <th>pet_length</th>\n",
       "      <td>1.273682</td>\n",
       "      <td>-0.321713</td>\n",
       "      <td>3.113179</td>\n",
       "      <td>1.296387</td>\n",
       "    </tr>\n",
       "    <tr>\n",
       "      <th>pet_width</th>\n",
       "      <td>0.516904</td>\n",
       "      <td>-0.117981</td>\n",
       "      <td>1.296387</td>\n",
       "      <td>0.582414</td>\n",
       "    </tr>\n",
       "  </tbody>\n",
       "</table>\n",
       "</div>"
      ],
      "text/plain": [
       "            sep_length  sep_width  pet_length  pet_width\n",
       "sep_length    0.685694  -0.039268    1.273682   0.516904\n",
       "sep_width    -0.039268   0.188004   -0.321713  -0.117981\n",
       "pet_length    1.273682  -0.321713    3.113179   1.296387\n",
       "pet_width     0.516904  -0.117981    1.296387   0.582414"
      ]
     },
     "execution_count": 124,
     "metadata": {},
     "output_type": "execute_result"
    }
   ],
   "source": [
    "iris_covariance = iris_df.cov()\n",
    "iris_covariance"
   ]
  },
  {
   "cell_type": "markdown",
   "metadata": {},
   "source": [
    "## Correlation\n",
    "\n",
    "**Correlation** is sort of like **standard deviation** generalized to pairs of datasets.\n",
    "\n",
    "Really, the **correlation** is a **covariance** scaled by each dataset's **standard deviation**, so that it can only take on values from -1 to +1. This allows us to compare two pairs of variables and quickly tell if one pair of datasets is more related than an other (since both values are scaled to the same range!):\n",
    "\n",
    "\\begin{align}\n",
    "r(x,y) = \\frac{cov(x,y)} {\\sigma_x\\sigma_y}\\\n",
    "\\end{align}\n",
    "\n",
    "Or this:\n",
    "\n",
    "\\begin{align}\n",
    "r(x,y) = \\frac{\\frac{\\sum_{i=1}^{n}(x_i-\\mu_x)(y_i-\\mu_y)} {n}} {\\sigma_x\\sigma_y}\\\n",
    "\\end{align}\n",
    "\n",
    "A positive correlation indicates the sets of values change together (when one increases or decreases the other does the same). A negative correlation indicates that the variables change in opposite directions (when one increases the other decreases).\n",
    "\n",
    "Just like the **covariance**, when we compute **correlations** for some dataset, we really compute a **correlation matrix** over all of the distinct sets of values in the dataset. The **correlation matrix** is symmetric, just like the **covariance matrix**.\n",
    "\n",
    "To find correlation in pandas, run:\n",
    "\n",
    "`DataFrame.corr()`\n",
    "\n",
    "**Find the correlation for each column against each column in the iris_df dataframe.**"
   ]
  },
  {
   "cell_type": "code",
   "execution_count": 125,
   "metadata": {},
   "outputs": [
    {
     "data": {
      "text/html": [
       "<div>\n",
       "<style>\n",
       "    .dataframe thead tr:only-child th {\n",
       "        text-align: right;\n",
       "    }\n",
       "\n",
       "    .dataframe thead th {\n",
       "        text-align: left;\n",
       "    }\n",
       "\n",
       "    .dataframe tbody tr th {\n",
       "        vertical-align: top;\n",
       "    }\n",
       "</style>\n",
       "<table border=\"1\" class=\"dataframe\">\n",
       "  <thead>\n",
       "    <tr style=\"text-align: right;\">\n",
       "      <th></th>\n",
       "      <th>sep_length</th>\n",
       "      <th>sep_width</th>\n",
       "      <th>pet_length</th>\n",
       "      <th>pet_width</th>\n",
       "    </tr>\n",
       "  </thead>\n",
       "  <tbody>\n",
       "    <tr>\n",
       "      <th>sep_length</th>\n",
       "      <td>1.000000</td>\n",
       "      <td>-0.109369</td>\n",
       "      <td>0.871754</td>\n",
       "      <td>0.817954</td>\n",
       "    </tr>\n",
       "    <tr>\n",
       "      <th>sep_width</th>\n",
       "      <td>-0.109369</td>\n",
       "      <td>1.000000</td>\n",
       "      <td>-0.420516</td>\n",
       "      <td>-0.356544</td>\n",
       "    </tr>\n",
       "    <tr>\n",
       "      <th>pet_length</th>\n",
       "      <td>0.871754</td>\n",
       "      <td>-0.420516</td>\n",
       "      <td>1.000000</td>\n",
       "      <td>0.962757</td>\n",
       "    </tr>\n",
       "    <tr>\n",
       "      <th>pet_width</th>\n",
       "      <td>0.817954</td>\n",
       "      <td>-0.356544</td>\n",
       "      <td>0.962757</td>\n",
       "      <td>1.000000</td>\n",
       "    </tr>\n",
       "  </tbody>\n",
       "</table>\n",
       "</div>"
      ],
      "text/plain": [
       "            sep_length  sep_width  pet_length  pet_width\n",
       "sep_length    1.000000  -0.109369    0.871754   0.817954\n",
       "sep_width    -0.109369   1.000000   -0.420516  -0.356544\n",
       "pet_length    0.871754  -0.420516    1.000000   0.962757\n",
       "pet_width     0.817954  -0.356544    0.962757   1.000000"
      ]
     },
     "execution_count": 125,
     "metadata": {},
     "output_type": "execute_result"
    }
   ],
   "source": [
    "iris_correlation = iris_df.corr()\n",
    "iris_correlation"
   ]
  },
  {
   "cell_type": "markdown",
   "metadata": {},
   "source": [
    "## Exercise Time!\n",
    "* Compute the row-based correlation matrix for `iris_df`.\n",
    "* Visualize the correlation matrix as a heatmap. Notice anything?\n",
    "* I've loaded in vertebral_data into a `Pandas` dataframe called `vertebral_df` for you below:\n",
    "    * Compute the mean of each column. \n",
    "    * Compute the median of each column.\n",
    "    * Compute the mode of each column.\n",
    "    * What would it mean if the mean and the median for a given column are very far apart?\n",
    "    * What is useful about knowing the mode?\n",
    "    * Compute the variance and standard deviation of each column.\n",
    "    * Generate the columnar covariance and correlation matrices for this matrix.\n",
    "    * Do any columns appear to change together (based on their covariances/correlations)?\n",
    "    * What conclusions can we draw from these column-based statistics?\n",
    "    * If we had computed all of the row-based statistics here, what would their interpretation be?"
   ]
  },
  {
   "cell_type": "markdown",
   "metadata": {},
   "source": [
    "#### Compute the row-based correlation matrix for `iris_df`."
   ]
  },
  {
   "cell_type": "code",
   "execution_count": 167,
   "metadata": {},
   "outputs": [
    {
     "data": {
      "text/html": [
       "<div>\n",
       "<style>\n",
       "    .dataframe thead tr:only-child th {\n",
       "        text-align: right;\n",
       "    }\n",
       "\n",
       "    .dataframe thead th {\n",
       "        text-align: left;\n",
       "    }\n",
       "\n",
       "    .dataframe tbody tr th {\n",
       "        vertical-align: top;\n",
       "    }\n",
       "</style>\n",
       "<table border=\"1\" class=\"dataframe\">\n",
       "  <thead>\n",
       "    <tr style=\"text-align: right;\">\n",
       "      <th></th>\n",
       "      <th>sep_length</th>\n",
       "      <th>sep_width</th>\n",
       "      <th>pet_length</th>\n",
       "      <th>pet_width</th>\n",
       "    </tr>\n",
       "  </thead>\n",
       "  <tbody>\n",
       "    <tr>\n",
       "      <th>sep_length</th>\n",
       "      <td>1.000000</td>\n",
       "      <td>-0.109369</td>\n",
       "      <td>0.871754</td>\n",
       "      <td>0.817954</td>\n",
       "    </tr>\n",
       "    <tr>\n",
       "      <th>sep_width</th>\n",
       "      <td>-0.109369</td>\n",
       "      <td>1.000000</td>\n",
       "      <td>-0.420516</td>\n",
       "      <td>-0.356544</td>\n",
       "    </tr>\n",
       "    <tr>\n",
       "      <th>pet_length</th>\n",
       "      <td>0.871754</td>\n",
       "      <td>-0.420516</td>\n",
       "      <td>1.000000</td>\n",
       "      <td>0.962757</td>\n",
       "    </tr>\n",
       "    <tr>\n",
       "      <th>pet_width</th>\n",
       "      <td>0.817954</td>\n",
       "      <td>-0.356544</td>\n",
       "      <td>0.962757</td>\n",
       "      <td>1.000000</td>\n",
       "    </tr>\n",
       "  </tbody>\n",
       "</table>\n",
       "</div>"
      ],
      "text/plain": [
       "            sep_length  sep_width  pet_length  pet_width\n",
       "sep_length    1.000000  -0.109369    0.871754   0.817954\n",
       "sep_width    -0.109369   1.000000   -0.420516  -0.356544\n",
       "pet_length    0.871754  -0.420516    1.000000   0.962757\n",
       "pet_width     0.817954  -0.356544    0.962757   1.000000"
      ]
     },
     "execution_count": 167,
     "metadata": {},
     "output_type": "execute_result"
    }
   ],
   "source": [
    "iris_correlation = iris_df.corr()\n",
    "iris_correlation"
   ]
  },
  {
   "cell_type": "markdown",
   "metadata": {},
   "source": [
    "#### Visualize the correlation matrix as a heatmap. Notice anything?"
   ]
  },
  {
   "cell_type": "code",
   "execution_count": 127,
   "metadata": {},
   "outputs": [
    {
     "data": {
      "text/plain": [
       "<matplotlib.axes._subplots.AxesSubplot at 0x115573ef0>"
      ]
     },
     "execution_count": 127,
     "metadata": {},
     "output_type": "execute_result"
    },
    {
     "data": {
      "image/png": "[encoded data removed]",
      "text/plain": [
       "<matplotlib.figure.Figure at 0x115622ef0>"
      ]
     },
     "metadata": {},
     "output_type": "display_data"
    }
   ],
   "source": [
    "ns.heatmap(iris_correlation)"
   ]
  },
  {
   "cell_type": "markdown",
   "metadata": {},
   "source": [
    "#### I've loaded in vertebral_data into a `Pandas` dataframe called `vertebral_df` for you below:"
   ]
  },
  {
   "cell_type": "code",
   "execution_count": 83,
   "metadata": {},
   "outputs": [
    {
     "data": {
      "text/html": [
       "<div>\n",
       "<style>\n",
       "    .dataframe thead tr:only-child th {\n",
       "        text-align: right;\n",
       "    }\n",
       "\n",
       "    .dataframe thead th {\n",
       "        text-align: left;\n",
       "    }\n",
       "\n",
       "    .dataframe tbody tr th {\n",
       "        vertical-align: top;\n",
       "    }\n",
       "</style>\n",
       "<table border=\"1\" class=\"dataframe\">\n",
       "  <thead>\n",
       "    <tr style=\"text-align: right;\">\n",
       "      <th></th>\n",
       "      <th>pelvic incidence</th>\n",
       "      <th>pelvic tilt</th>\n",
       "      <th>lumbar lordosis angle</th>\n",
       "      <th>sacral slope</th>\n",
       "      <th>pelvic radius</th>\n",
       "      <th>grade of spondylolisthesis</th>\n",
       "      <th>classification</th>\n",
       "    </tr>\n",
       "  </thead>\n",
       "  <tbody>\n",
       "    <tr>\n",
       "      <th>0</th>\n",
       "      <td>63.03</td>\n",
       "      <td>22.55</td>\n",
       "      <td>39.61</td>\n",
       "      <td>40.48</td>\n",
       "      <td>98.67</td>\n",
       "      <td>-0.25</td>\n",
       "      <td>AB</td>\n",
       "    </tr>\n",
       "    <tr>\n",
       "      <th>1</th>\n",
       "      <td>39.06</td>\n",
       "      <td>10.06</td>\n",
       "      <td>25.02</td>\n",
       "      <td>29.00</td>\n",
       "      <td>114.41</td>\n",
       "      <td>4.56</td>\n",
       "      <td>AB</td>\n",
       "    </tr>\n",
       "    <tr>\n",
       "      <th>2</th>\n",
       "      <td>68.83</td>\n",
       "      <td>22.22</td>\n",
       "      <td>50.09</td>\n",
       "      <td>46.61</td>\n",
       "      <td>105.99</td>\n",
       "      <td>-3.53</td>\n",
       "      <td>AB</td>\n",
       "    </tr>\n",
       "    <tr>\n",
       "      <th>3</th>\n",
       "      <td>69.30</td>\n",
       "      <td>24.65</td>\n",
       "      <td>44.31</td>\n",
       "      <td>44.64</td>\n",
       "      <td>101.87</td>\n",
       "      <td>11.21</td>\n",
       "      <td>AB</td>\n",
       "    </tr>\n",
       "    <tr>\n",
       "      <th>4</th>\n",
       "      <td>49.71</td>\n",
       "      <td>9.65</td>\n",
       "      <td>28.32</td>\n",
       "      <td>40.06</td>\n",
       "      <td>108.17</td>\n",
       "      <td>7.92</td>\n",
       "      <td>AB</td>\n",
       "    </tr>\n",
       "  </tbody>\n",
       "</table>\n",
       "</div>"
      ],
      "text/plain": [
       "   pelvic incidence  pelvic tilt  lumbar lordosis angle  sacral slope  \\\n",
       "0             63.03        22.55                  39.61         40.48   \n",
       "1             39.06        10.06                  25.02         29.00   \n",
       "2             68.83        22.22                  50.09         46.61   \n",
       "3             69.30        24.65                  44.31         44.64   \n",
       "4             49.71         9.65                  28.32         40.06   \n",
       "\n",
       "   pelvic radius  grade of spondylolisthesis classification  \n",
       "0          98.67                       -0.25             AB  \n",
       "1         114.41                        4.56             AB  \n",
       "2         105.99                       -3.53             AB  \n",
       "3         101.87                       11.21             AB  \n",
       "4         108.17                        7.92             AB  "
      ]
     },
     "execution_count": 83,
     "metadata": {},
     "output_type": "execute_result"
    }
   ],
   "source": [
    "headers = ['pelvic incidence', 'pelvic tilt', 'lumbar lordosis angle', 'sacral slope', 'pelvic radius', 'grade of spondylolisthesis', 'classification']\n",
    "vertebral_df = pd.read_csv('../data/vertebral_column_2_categories.dat', delimiter=' ', names=headers, index_col=False)\n",
    "vertebral_df.head()"
   ]
  },
  {
   "cell_type": "markdown",
   "metadata": {},
   "source": [
    "#### Compute the mean of each column. \n"
   ]
  },
  {
   "cell_type": "code",
   "execution_count": 157,
   "metadata": {},
   "outputs": [
    {
     "data": {
      "text/plain": [
       "pelvic incidence               60.496484\n",
       "pelvic tilt                    17.542903\n",
       "lumbar lordosis angle          51.930710\n",
       "sacral slope                   42.953871\n",
       "pelvic radius                 117.920548\n",
       "grade of spondylolisthesis     26.296742\n",
       "dtype: float64"
      ]
     },
     "execution_count": 157,
     "metadata": {},
     "output_type": "execute_result"
    }
   ],
   "source": [
    "ertebral_df.mean()"
   ]
  },
  {
   "cell_type": "markdown",
   "metadata": {},
   "source": [
    "#### Compute the median of each column.\n"
   ]
  },
  {
   "cell_type": "code",
   "execution_count": 158,
   "metadata": {},
   "outputs": [
    {
     "data": {
      "text/plain": [
       "pelvic incidence               58.690\n",
       "pelvic tilt                    16.360\n",
       "lumbar lordosis angle          49.565\n",
       "sacral slope                   42.405\n",
       "pelvic radius                 118.265\n",
       "grade of spondylolisthesis     11.765\n",
       "dtype: float64"
      ]
     },
     "execution_count": 158,
     "metadata": {},
     "output_type": "execute_result"
    }
   ],
   "source": [
    "vertebral_df.median()"
   ]
  },
  {
   "cell_type": "markdown",
   "metadata": {},
   "source": [
    "#### Compute the mode of each column.\n"
   ]
  },
  {
   "cell_type": "code",
   "execution_count": 159,
   "metadata": {},
   "outputs": [
    {
     "data": {
      "text/html": [
       "<div>\n",
       "<style>\n",
       "    .dataframe thead tr:only-child th {\n",
       "        text-align: right;\n",
       "    }\n",
       "\n",
       "    .dataframe thead th {\n",
       "        text-align: left;\n",
       "    }\n",
       "\n",
       "    .dataframe tbody tr th {\n",
       "        vertical-align: top;\n",
       "    }\n",
       "</style>\n",
       "<table border=\"1\" class=\"dataframe\">\n",
       "  <thead>\n",
       "    <tr style=\"text-align: right;\">\n",
       "      <th></th>\n",
       "      <th>pelvic incidence</th>\n",
       "      <th>pelvic tilt</th>\n",
       "      <th>lumbar lordosis angle</th>\n",
       "      <th>sacral slope</th>\n",
       "      <th>pelvic radius</th>\n",
       "      <th>grade of spondylolisthesis</th>\n",
       "      <th>classification</th>\n",
       "    </tr>\n",
       "  </thead>\n",
       "  <tbody>\n",
       "    <tr>\n",
       "      <th>0</th>\n",
       "      <td>42.52</td>\n",
       "      <td>5.27</td>\n",
       "      <td>35.0</td>\n",
       "      <td>56.31</td>\n",
       "      <td>110.71</td>\n",
       "      <td>-4.08</td>\n",
       "      <td>AB</td>\n",
       "    </tr>\n",
       "    <tr>\n",
       "      <th>1</th>\n",
       "      <td>49.71</td>\n",
       "      <td>8.40</td>\n",
       "      <td>42.0</td>\n",
       "      <td>NaN</td>\n",
       "      <td>116.56</td>\n",
       "      <td>-2.01</td>\n",
       "      <td>NaN</td>\n",
       "    </tr>\n",
       "    <tr>\n",
       "      <th>2</th>\n",
       "      <td>50.91</td>\n",
       "      <td>10.06</td>\n",
       "      <td>47.0</td>\n",
       "      <td>NaN</td>\n",
       "      <td>116.59</td>\n",
       "      <td>1.01</td>\n",
       "      <td>NaN</td>\n",
       "    </tr>\n",
       "    <tr>\n",
       "      <th>3</th>\n",
       "      <td>53.94</td>\n",
       "      <td>10.22</td>\n",
       "      <td>52.0</td>\n",
       "      <td>NaN</td>\n",
       "      <td>116.80</td>\n",
       "      <td>3.09</td>\n",
       "      <td>NaN</td>\n",
       "    </tr>\n",
       "    <tr>\n",
       "      <th>4</th>\n",
       "      <td>54.92</td>\n",
       "      <td>10.76</td>\n",
       "      <td>58.0</td>\n",
       "      <td>NaN</td>\n",
       "      <td>117.98</td>\n",
       "      <td>4.96</td>\n",
       "      <td>NaN</td>\n",
       "    </tr>\n",
       "    <tr>\n",
       "      <th>5</th>\n",
       "      <td>63.03</td>\n",
       "      <td>13.11</td>\n",
       "      <td>NaN</td>\n",
       "      <td>NaN</td>\n",
       "      <td>119.32</td>\n",
       "      <td>NaN</td>\n",
       "      <td>NaN</td>\n",
       "    </tr>\n",
       "    <tr>\n",
       "      <th>6</th>\n",
       "      <td>65.01</td>\n",
       "      <td>13.28</td>\n",
       "      <td>NaN</td>\n",
       "      <td>NaN</td>\n",
       "      <td>129.39</td>\n",
       "      <td>NaN</td>\n",
       "      <td>NaN</td>\n",
       "    </tr>\n",
       "    <tr>\n",
       "      <th>7</th>\n",
       "      <td>65.76</td>\n",
       "      <td>13.92</td>\n",
       "      <td>NaN</td>\n",
       "      <td>NaN</td>\n",
       "      <td>NaN</td>\n",
       "      <td>NaN</td>\n",
       "      <td>NaN</td>\n",
       "    </tr>\n",
       "    <tr>\n",
       "      <th>8</th>\n",
       "      <td>74.72</td>\n",
       "      <td>14.38</td>\n",
       "      <td>NaN</td>\n",
       "      <td>NaN</td>\n",
       "      <td>NaN</td>\n",
       "      <td>NaN</td>\n",
       "      <td>NaN</td>\n",
       "    </tr>\n",
       "    <tr>\n",
       "      <th>9</th>\n",
       "      <td>NaN</td>\n",
       "      <td>15.40</td>\n",
       "      <td>NaN</td>\n",
       "      <td>NaN</td>\n",
       "      <td>NaN</td>\n",
       "      <td>NaN</td>\n",
       "      <td>NaN</td>\n",
       "    </tr>\n",
       "    <tr>\n",
       "      <th>10</th>\n",
       "      <td>NaN</td>\n",
       "      <td>16.42</td>\n",
       "      <td>NaN</td>\n",
       "      <td>NaN</td>\n",
       "      <td>NaN</td>\n",
       "      <td>NaN</td>\n",
       "      <td>NaN</td>\n",
       "    </tr>\n",
       "    <tr>\n",
       "      <th>11</th>\n",
       "      <td>NaN</td>\n",
       "      <td>16.74</td>\n",
       "      <td>NaN</td>\n",
       "      <td>NaN</td>\n",
       "      <td>NaN</td>\n",
       "      <td>NaN</td>\n",
       "      <td>NaN</td>\n",
       "    </tr>\n",
       "    <tr>\n",
       "      <th>12</th>\n",
       "      <td>NaN</td>\n",
       "      <td>17.44</td>\n",
       "      <td>NaN</td>\n",
       "      <td>NaN</td>\n",
       "      <td>NaN</td>\n",
       "      <td>NaN</td>\n",
       "      <td>NaN</td>\n",
       "    </tr>\n",
       "    <tr>\n",
       "      <th>13</th>\n",
       "      <td>NaN</td>\n",
       "      <td>19.44</td>\n",
       "      <td>NaN</td>\n",
       "      <td>NaN</td>\n",
       "      <td>NaN</td>\n",
       "      <td>NaN</td>\n",
       "      <td>NaN</td>\n",
       "    </tr>\n",
       "    <tr>\n",
       "      <th>14</th>\n",
       "      <td>NaN</td>\n",
       "      <td>21.12</td>\n",
       "      <td>NaN</td>\n",
       "      <td>NaN</td>\n",
       "      <td>NaN</td>\n",
       "      <td>NaN</td>\n",
       "      <td>NaN</td>\n",
       "    </tr>\n",
       "    <tr>\n",
       "      <th>15</th>\n",
       "      <td>NaN</td>\n",
       "      <td>23.08</td>\n",
       "      <td>NaN</td>\n",
       "      <td>NaN</td>\n",
       "      <td>NaN</td>\n",
       "      <td>NaN</td>\n",
       "      <td>NaN</td>\n",
       "    </tr>\n",
       "    <tr>\n",
       "      <th>16</th>\n",
       "      <td>NaN</td>\n",
       "      <td>26.33</td>\n",
       "      <td>NaN</td>\n",
       "      <td>NaN</td>\n",
       "      <td>NaN</td>\n",
       "      <td>NaN</td>\n",
       "      <td>NaN</td>\n",
       "    </tr>\n",
       "    <tr>\n",
       "      <th>17</th>\n",
       "      <td>NaN</td>\n",
       "      <td>33.28</td>\n",
       "      <td>NaN</td>\n",
       "      <td>NaN</td>\n",
       "      <td>NaN</td>\n",
       "      <td>NaN</td>\n",
       "      <td>NaN</td>\n",
       "    </tr>\n",
       "    <tr>\n",
       "      <th>18</th>\n",
       "      <td>NaN</td>\n",
       "      <td>37.52</td>\n",
       "      <td>NaN</td>\n",
       "      <td>NaN</td>\n",
       "      <td>NaN</td>\n",
       "      <td>NaN</td>\n",
       "      <td>NaN</td>\n",
       "    </tr>\n",
       "  </tbody>\n",
       "</table>\n",
       "</div>"
      ],
      "text/plain": [
       "    pelvic incidence  pelvic tilt  lumbar lordosis angle  sacral slope  \\\n",
       "0              42.52         5.27                   35.0         56.31   \n",
       "1              49.71         8.40                   42.0           NaN   \n",
       "2              50.91        10.06                   47.0           NaN   \n",
       "3              53.94        10.22                   52.0           NaN   \n",
       "4              54.92        10.76                   58.0           NaN   \n",
       "5              63.03        13.11                    NaN           NaN   \n",
       "6              65.01        13.28                    NaN           NaN   \n",
       "7              65.76        13.92                    NaN           NaN   \n",
       "8              74.72        14.38                    NaN           NaN   \n",
       "9                NaN        15.40                    NaN           NaN   \n",
       "10               NaN        16.42                    NaN           NaN   \n",
       "11               NaN        16.74                    NaN           NaN   \n",
       "12               NaN        17.44                    NaN           NaN   \n",
       "13               NaN        19.44                    NaN           NaN   \n",
       "14               NaN        21.12                    NaN           NaN   \n",
       "15               NaN        23.08                    NaN           NaN   \n",
       "16               NaN        26.33                    NaN           NaN   \n",
       "17               NaN        33.28                    NaN           NaN   \n",
       "18               NaN        37.52                    NaN           NaN   \n",
       "\n",
       "    pelvic radius  grade of spondylolisthesis classification  \n",
       "0          110.71                       -4.08             AB  \n",
       "1          116.56                       -2.01            NaN  \n",
       "2          116.59                        1.01            NaN  \n",
       "3          116.80                        3.09            NaN  \n",
       "4          117.98                        4.96            NaN  \n",
       "5          119.32                         NaN            NaN  \n",
       "6          129.39                         NaN            NaN  \n",
       "7             NaN                         NaN            NaN  \n",
       "8             NaN                         NaN            NaN  \n",
       "9             NaN                         NaN            NaN  \n",
       "10            NaN                         NaN            NaN  \n",
       "11            NaN                         NaN            NaN  \n",
       "12            NaN                         NaN            NaN  \n",
       "13            NaN                         NaN            NaN  \n",
       "14            NaN                         NaN            NaN  \n",
       "15            NaN                         NaN            NaN  \n",
       "16            NaN                         NaN            NaN  \n",
       "17            NaN                         NaN            NaN  \n",
       "18            NaN                         NaN            NaN  "
      ]
     },
     "execution_count": 159,
     "metadata": {},
     "output_type": "execute_result"
    }
   ],
   "source": [
    "vertebral_df.mode()"
   ]
  },
  {
   "cell_type": "markdown",
   "metadata": {},
   "source": [
    "#### What would it mean if the mean and the median for a given column are very far apart?\n",
    "\n",
    "If they're close, then the group is probably normally distributed (the familiar bell curve), and the average is useful. If they're far apart, then the values are not normally distributed (the data is skewed) and the median is the better representation."
   ]
  },
  {
   "cell_type": "markdown",
   "metadata": {},
   "source": [
    "#### What is useful about knowing the mode?\n",
    "\n",
    "The mode of a set of data values is the value that appears most often. In other words, it is the value that is most likely to be sampled. "
   ]
  },
  {
   "cell_type": "markdown",
   "metadata": {},
   "source": [
    "#### Compute the variance of each column"
   ]
  },
  {
   "cell_type": "code",
   "execution_count": 160,
   "metadata": {},
   "outputs": [
    {
     "data": {
      "text/plain": [
       "pelvic incidence               297.083454\n",
       "pelvic tilt                    100.162867\n",
       "lumbar lordosis angle          344.242226\n",
       "sacral slope                   180.170168\n",
       "pelvic radius                  177.359254\n",
       "grade of spondylolisthesis    1410.669696\n",
       "dtype: float64"
      ]
     },
     "execution_count": 160,
     "metadata": {},
     "output_type": "execute_result"
    }
   ],
   "source": [
    "vertebral_df.var()"
   ]
  },
  {
   "cell_type": "markdown",
   "metadata": {},
   "source": [
    "#### Copute the standard deviation of each column"
   ]
  },
  {
   "cell_type": "code",
   "execution_count": 161,
   "metadata": {},
   "outputs": [
    {
     "data": {
      "text/plain": [
       "pelvic incidence              17.236109\n",
       "pelvic tilt                   10.008140\n",
       "lumbar lordosis angle         18.553766\n",
       "sacral slope                  13.422748\n",
       "pelvic radius                 13.317629\n",
       "grade of spondylolisthesis    37.558883\n",
       "dtype: float64"
      ]
     },
     "execution_count": 161,
     "metadata": {},
     "output_type": "execute_result"
    }
   ],
   "source": [
    "vertebral_df.std()"
   ]
  },
  {
   "cell_type": "markdown",
   "metadata": {},
   "source": [
    "#### Generate the covariance matrices for this matrix."
   ]
  },
  {
   "cell_type": "code",
   "execution_count": 162,
   "metadata": {},
   "outputs": [
    {
     "data": {
      "text/html": [
       "<div>\n",
       "<style>\n",
       "    .dataframe thead tr:only-child th {\n",
       "        text-align: right;\n",
       "    }\n",
       "\n",
       "    .dataframe thead th {\n",
       "        text-align: left;\n",
       "    }\n",
       "\n",
       "    .dataframe tbody tr th {\n",
       "        vertical-align: top;\n",
       "    }\n",
       "</style>\n",
       "<table border=\"1\" class=\"dataframe\">\n",
       "  <thead>\n",
       "    <tr style=\"text-align: right;\">\n",
       "      <th></th>\n",
       "      <th>pelvic incidence</th>\n",
       "      <th>pelvic tilt</th>\n",
       "      <th>lumbar lordosis angle</th>\n",
       "      <th>sacral slope</th>\n",
       "      <th>pelvic radius</th>\n",
       "      <th>grade of spondylolisthesis</th>\n",
       "    </tr>\n",
       "  </thead>\n",
       "  <tbody>\n",
       "    <tr>\n",
       "      <th>pelvic incidence</th>\n",
       "      <td>297.083454</td>\n",
       "      <td>108.535432</td>\n",
       "      <td>229.384177</td>\n",
       "      <td>188.545538</td>\n",
       "      <td>-56.808501</td>\n",
       "      <td>413.495640</td>\n",
       "    </tr>\n",
       "    <tr>\n",
       "      <th>pelvic tilt</th>\n",
       "      <td>108.535432</td>\n",
       "      <td>100.162867</td>\n",
       "      <td>80.358704</td>\n",
       "      <td>8.372740</td>\n",
       "      <td>4.353114</td>\n",
       "      <td>149.545840</td>\n",
       "    </tr>\n",
       "    <tr>\n",
       "      <th>lumbar lordosis angle</th>\n",
       "      <td>229.384177</td>\n",
       "      <td>80.358704</td>\n",
       "      <td>344.242226</td>\n",
       "      <td>149.024262</td>\n",
       "      <td>-19.858226</td>\n",
       "      <td>371.889090</td>\n",
       "    </tr>\n",
       "    <tr>\n",
       "      <th>sacral slope</th>\n",
       "      <td>188.545538</td>\n",
       "      <td>8.372740</td>\n",
       "      <td>149.024262</td>\n",
       "      <td>180.170168</td>\n",
       "      <td>-61.161830</td>\n",
       "      <td>263.955081</td>\n",
       "    </tr>\n",
       "    <tr>\n",
       "      <th>pelvic radius</th>\n",
       "      <td>-56.808501</td>\n",
       "      <td>4.353114</td>\n",
       "      <td>-19.858226</td>\n",
       "      <td>-61.161830</td>\n",
       "      <td>177.359254</td>\n",
       "      <td>-13.041747</td>\n",
       "    </tr>\n",
       "    <tr>\n",
       "      <th>grade of spondylolisthesis</th>\n",
       "      <td>413.495640</td>\n",
       "      <td>149.545840</td>\n",
       "      <td>371.889090</td>\n",
       "      <td>263.955081</td>\n",
       "      <td>-13.041747</td>\n",
       "      <td>1410.669696</td>\n",
       "    </tr>\n",
       "  </tbody>\n",
       "</table>\n",
       "</div>"
      ],
      "text/plain": [
       "                            pelvic incidence  pelvic tilt  \\\n",
       "pelvic incidence                  297.083454   108.535432   \n",
       "pelvic tilt                       108.535432   100.162867   \n",
       "lumbar lordosis angle             229.384177    80.358704   \n",
       "sacral slope                      188.545538     8.372740   \n",
       "pelvic radius                     -56.808501     4.353114   \n",
       "grade of spondylolisthesis        413.495640   149.545840   \n",
       "\n",
       "                            lumbar lordosis angle  sacral slope  \\\n",
       "pelvic incidence                       229.384177    188.545538   \n",
       "pelvic tilt                             80.358704      8.372740   \n",
       "lumbar lordosis angle                  344.242226    149.024262   \n",
       "sacral slope                           149.024262    180.170168   \n",
       "pelvic radius                          -19.858226    -61.161830   \n",
       "grade of spondylolisthesis             371.889090    263.955081   \n",
       "\n",
       "                            pelvic radius  grade of spondylolisthesis  \n",
       "pelvic incidence               -56.808501                  413.495640  \n",
       "pelvic tilt                      4.353114                  149.545840  \n",
       "lumbar lordosis angle          -19.858226                  371.889090  \n",
       "sacral slope                   -61.161830                  263.955081  \n",
       "pelvic radius                  177.359254                  -13.041747  \n",
       "grade of spondylolisthesis     -13.041747                 1410.669696  "
      ]
     },
     "execution_count": 162,
     "metadata": {},
     "output_type": "execute_result"
    }
   ],
   "source": [
    "vertebral_df.cov()"
   ]
  },
  {
   "cell_type": "markdown",
   "metadata": {},
   "source": [
    "#### Generate the correlation matrices for this matrix."
   ]
  },
  {
   "cell_type": "code",
   "execution_count": 163,
   "metadata": {},
   "outputs": [
    {
     "data": {
      "text/html": [
       "<div>\n",
       "<style>\n",
       "    .dataframe thead tr:only-child th {\n",
       "        text-align: right;\n",
       "    }\n",
       "\n",
       "    .dataframe thead th {\n",
       "        text-align: left;\n",
       "    }\n",
       "\n",
       "    .dataframe tbody tr th {\n",
       "        vertical-align: top;\n",
       "    }\n",
       "</style>\n",
       "<table border=\"1\" class=\"dataframe\">\n",
       "  <thead>\n",
       "    <tr style=\"text-align: right;\">\n",
       "      <th></th>\n",
       "      <th>pelvic incidence</th>\n",
       "      <th>pelvic tilt</th>\n",
       "      <th>lumbar lordosis angle</th>\n",
       "      <th>sacral slope</th>\n",
       "      <th>pelvic radius</th>\n",
       "      <th>grade of spondylolisthesis</th>\n",
       "    </tr>\n",
       "  </thead>\n",
       "  <tbody>\n",
       "    <tr>\n",
       "      <th>pelvic incidence</th>\n",
       "      <td>1.000000</td>\n",
       "      <td>0.629186</td>\n",
       "      <td>0.717286</td>\n",
       "      <td>0.814959</td>\n",
       "      <td>-0.247484</td>\n",
       "      <td>0.638733</td>\n",
       "    </tr>\n",
       "    <tr>\n",
       "      <th>pelvic tilt</th>\n",
       "      <td>0.629186</td>\n",
       "      <td>1.000000</td>\n",
       "      <td>0.432760</td>\n",
       "      <td>0.062327</td>\n",
       "      <td>0.032660</td>\n",
       "      <td>0.397840</td>\n",
       "    </tr>\n",
       "    <tr>\n",
       "      <th>lumbar lordosis angle</th>\n",
       "      <td>0.717286</td>\n",
       "      <td>0.432760</td>\n",
       "      <td>1.000000</td>\n",
       "      <td>0.598389</td>\n",
       "      <td>-0.080368</td>\n",
       "      <td>0.533665</td>\n",
       "    </tr>\n",
       "    <tr>\n",
       "      <th>sacral slope</th>\n",
       "      <td>0.814959</td>\n",
       "      <td>0.062327</td>\n",
       "      <td>0.598389</td>\n",
       "      <td>1.000000</td>\n",
       "      <td>-0.342147</td>\n",
       "      <td>0.523571</td>\n",
       "    </tr>\n",
       "    <tr>\n",
       "      <th>pelvic radius</th>\n",
       "      <td>-0.247484</td>\n",
       "      <td>0.032660</td>\n",
       "      <td>-0.080368</td>\n",
       "      <td>-0.342147</td>\n",
       "      <td>1.000000</td>\n",
       "      <td>-0.026073</td>\n",
       "    </tr>\n",
       "    <tr>\n",
       "      <th>grade of spondylolisthesis</th>\n",
       "      <td>0.638733</td>\n",
       "      <td>0.397840</td>\n",
       "      <td>0.533665</td>\n",
       "      <td>0.523571</td>\n",
       "      <td>-0.026073</td>\n",
       "      <td>1.000000</td>\n",
       "    </tr>\n",
       "  </tbody>\n",
       "</table>\n",
       "</div>"
      ],
      "text/plain": [
       "                            pelvic incidence  pelvic tilt  \\\n",
       "pelvic incidence                    1.000000     0.629186   \n",
       "pelvic tilt                         0.629186     1.000000   \n",
       "lumbar lordosis angle               0.717286     0.432760   \n",
       "sacral slope                        0.814959     0.062327   \n",
       "pelvic radius                      -0.247484     0.032660   \n",
       "grade of spondylolisthesis          0.638733     0.397840   \n",
       "\n",
       "                            lumbar lordosis angle  sacral slope  \\\n",
       "pelvic incidence                         0.717286      0.814959   \n",
       "pelvic tilt                              0.432760      0.062327   \n",
       "lumbar lordosis angle                    1.000000      0.598389   \n",
       "sacral slope                             0.598389      1.000000   \n",
       "pelvic radius                           -0.080368     -0.342147   \n",
       "grade of spondylolisthesis               0.533665      0.523571   \n",
       "\n",
       "                            pelvic radius  grade of spondylolisthesis  \n",
       "pelvic incidence                -0.247484                    0.638733  \n",
       "pelvic tilt                      0.032660                    0.397840  \n",
       "lumbar lordosis angle           -0.080368                    0.533665  \n",
       "sacral slope                    -0.342147                    0.523571  \n",
       "pelvic radius                    1.000000                   -0.026073  \n",
       "grade of spondylolisthesis      -0.026073                    1.000000  "
      ]
     },
     "execution_count": 163,
     "metadata": {},
     "output_type": "execute_result"
    }
   ],
   "source": [
    "vertebral_df.corr()"
   ]
  },
  {
   "cell_type": "markdown",
   "metadata": {},
   "source": [
    "I'll leave the last few questions for you to think about yourself. If you have questions, feel free to bring it up in office hours!\n",
    "\n",
    "**Do any columns appear to change together (based on their covariances/correlations)?**"
   ]
  },
  {
   "cell_type": "code",
   "execution_count": null,
   "metadata": {
    "collapsed": true
   },
   "outputs": [],
   "source": []
  },
  {
   "cell_type": "markdown",
   "metadata": {},
   "source": [
    "**What conclusions can we draw from these column-based statistics?**"
   ]
  },
  {
   "cell_type": "code",
   "execution_count": null,
   "metadata": {
    "collapsed": true
   },
   "outputs": [],
   "source": []
  },
  {
   "cell_type": "markdown",
   "metadata": {},
   "source": [
    "**If we had computed all of the row-based statistics here, what would their interpretation be?**"
   ]
  },
  {
   "cell_type": "code",
   "execution_count": null,
   "metadata": {
    "collapsed": true
   },
   "outputs": [],
   "source": []
  },
  {
   "cell_type": "markdown",
   "metadata": {},
   "source": [
    "## Histograms\n",
    "\n",
    "A regular histogram is a very powerful, simple way to get a sense of the kinds of values a single set of data is comprised of. \n",
    "\n",
    "Let's take a look at the histogram of values for the first column in `iris_df`.\n",
    "\n",
    "There are a few ways you can do this. A couple are:\n",
    "\n",
    "- `sns.distplot(DataFrame[column_name])` (uses seaborn)\n",
    "- `DataFrame[column_name]).hist()` (uses matplotlib functionality with pandas)"
   ]
  },
  {
   "cell_type": "markdown",
   "metadata": {},
   "source": [
    "#### Create a histogram of the sep_length column in the iris_df dataframe"
   ]
  },
  {
   "cell_type": "code",
   "execution_count": 84,
   "metadata": {},
   "outputs": [
    {
     "data": {
      "text/plain": [
       "<matplotlib.axes._subplots.AxesSubplot at 0x114d41940>"
      ]
     },
     "execution_count": 84,
     "metadata": {},
     "output_type": "execute_result"
    },
    {
     "data": {
      "image/png": "[encoded data removed]",
      "text/plain": [
       "<matplotlib.figure.Figure at 0x114ae1940>"
      ]
     },
     "metadata": {},
     "output_type": "display_data"
    }
   ],
   "source": [
    "sns.distplot(iris_df['sep_length'], kde=False, bins=15)"
   ]
  },
  {
   "cell_type": "code",
   "execution_count": 85,
   "metadata": {},
   "outputs": [
    {
     "data": {
      "text/plain": [
       "<matplotlib.axes._subplots.AxesSubplot at 0x114a1a710>"
      ]
     },
     "execution_count": 85,
     "metadata": {},
     "output_type": "execute_result"
    },
    {
     "data": {
      "image/png": "[encoded data removed]",
      "text/plain": [
       "<matplotlib.figure.Figure at 0x114d29828>"
      ]
     },
     "metadata": {},
     "output_type": "display_data"
    }
   ],
   "source": [
    "iris_df['sep_length'].hist()"
   ]
  },
  {
   "cell_type": "markdown",
   "metadata": {},
   "source": [
    "The **x-axis shows us the actual range of values that the column takes on**. It looks like the first column ranges from just over 4 to just under 8.\n",
    "\n",
    "The **y-axis is a frequency count of the number of rows in the column that fall into each vertical bin**. So, the first bin (furthest to the left), which ranges from ~4.25 to ~4.75 contains 11 values.\n",
    "\n",
    "We can also make **cumulative history histograms**, which give us a graphical way to see what fraction of the datapoints are below or above a certain value.\n",
    "\n",
    "You run the following in seaborn to create this:\n",
    "\n",
    "`sns.distplot(DataFrame[column_name], hist_kws={\"cumulative\":True},kde_kws={\"cumulative\":True})`\n",
    "\n",
    "#### Create a cumulative histogram of the sep_length column in the iris_df dataframe"
   ]
  },
  {
   "cell_type": "code",
   "execution_count": 86,
   "metadata": {},
   "outputs": [
    {
     "name": "stdout",
     "output_type": "stream",
     "text": [
      "Cumulative frequency plot of 1st column:\n"
     ]
    },
    {
     "data": {
      "image/png": "[encoded data removed]",
      "text/plain": [
       "<matplotlib.figure.Figure at 0x114c7ef28>"
      ]
     },
     "metadata": {},
     "output_type": "display_data"
    }
   ],
   "source": [
    "sns.distplot(iris_df['sep_length'], hist_kws={\"cumulative\":True},kde_kws={\"cumulative\":True})\n",
    "print(\"Cumulative frequency plot of 1st column:\")"
   ]
  },
  {
   "cell_type": "markdown",
   "metadata": {},
   "source": [
    "## Scatter Plot\n",
    "\n",
    "When you want to visualize how two columns vary together, you can use a **scatter plot**. \n",
    "\n",
    "A scatter plot simply plots the value for each column per-row for the two columns you've chosen.\n",
    "\n",
    "Every dot in the scatter plot is an individual row. \n",
    "\n",
    "You can combine both a **scatter plot** and a **histogram** for a pair of columns very effectively using a `jointplot`.\n",
    "\n",
    "`sns.jointplot(x_column, ycolumn)"
   ]
  },
  {
   "cell_type": "code",
   "execution_count": 166,
   "metadata": {},
   "outputs": [
    {
     "name": "stdout",
     "output_type": "stream",
     "text": [
      "Scatter plot with histograms for the first two columns in the iris dataset:\n"
     ]
    },
    {
     "data": {
      "image/png": "[encoded data removed]",
      "text/plain": [
       "<matplotlib.figure.Figure at 0x114d30438>"
      ]
     },
     "metadata": {},
     "output_type": "display_data"
    }
   ],
   "source": [
    "sns.jointplot(iris_df['sep_length'], iris_df['sep_width'],stat_func=None)\n",
    "print(\"Scatter plot with histograms for the first two columns in the iris dataset:\")"
   ]
  },
  {
   "cell_type": "markdown",
   "metadata": {},
   "source": [
    "### Exercise Time!\n",
    "* Using the `vertebral_df` dataset:\n",
    "    * Compute the column-wise correlation matrix\n",
    "    * Visualize the scatter plot for two columns that are positively correlated\n",
    "    * Visualize the scatter plot for two columns that are negatively correlated (anti-correlated)\n",
    "    \n",
    "If you don't recall how to make a scatter plot in seaborn or matplotlib, try google! It's good to get used to having to search for answers. :)\n",
    "\n",
    "#### Compute the column-wise correlation matrix"
   ]
  },
  {
   "cell_type": "code",
   "execution_count": 88,
   "metadata": {},
   "outputs": [
    {
     "data": {
      "text/html": [
       "<div>\n",
       "<style>\n",
       "    .dataframe thead tr:only-child th {\n",
       "        text-align: right;\n",
       "    }\n",
       "\n",
       "    .dataframe thead th {\n",
       "        text-align: left;\n",
       "    }\n",
       "\n",
       "    .dataframe tbody tr th {\n",
       "        vertical-align: top;\n",
       "    }\n",
       "</style>\n",
       "<table border=\"1\" class=\"dataframe\">\n",
       "  <thead>\n",
       "    <tr style=\"text-align: right;\">\n",
       "      <th></th>\n",
       "      <th>pelvic incidence</th>\n",
       "      <th>pelvic tilt</th>\n",
       "      <th>lumbar lordosis angle</th>\n",
       "      <th>sacral slope</th>\n",
       "      <th>pelvic radius</th>\n",
       "      <th>grade of spondylolisthesis</th>\n",
       "    </tr>\n",
       "  </thead>\n",
       "  <tbody>\n",
       "    <tr>\n",
       "      <th>pelvic incidence</th>\n",
       "      <td>1.000000</td>\n",
       "      <td>0.629186</td>\n",
       "      <td>0.717286</td>\n",
       "      <td>0.814959</td>\n",
       "      <td>-0.247484</td>\n",
       "      <td>0.638733</td>\n",
       "    </tr>\n",
       "    <tr>\n",
       "      <th>pelvic tilt</th>\n",
       "      <td>0.629186</td>\n",
       "      <td>1.000000</td>\n",
       "      <td>0.432760</td>\n",
       "      <td>0.062327</td>\n",
       "      <td>0.032660</td>\n",
       "      <td>0.397840</td>\n",
       "    </tr>\n",
       "    <tr>\n",
       "      <th>lumbar lordosis angle</th>\n",
       "      <td>0.717286</td>\n",
       "      <td>0.432760</td>\n",
       "      <td>1.000000</td>\n",
       "      <td>0.598389</td>\n",
       "      <td>-0.080368</td>\n",
       "      <td>0.533665</td>\n",
       "    </tr>\n",
       "    <tr>\n",
       "      <th>sacral slope</th>\n",
       "      <td>0.814959</td>\n",
       "      <td>0.062327</td>\n",
       "      <td>0.598389</td>\n",
       "      <td>1.000000</td>\n",
       "      <td>-0.342147</td>\n",
       "      <td>0.523571</td>\n",
       "    </tr>\n",
       "    <tr>\n",
       "      <th>pelvic radius</th>\n",
       "      <td>-0.247484</td>\n",
       "      <td>0.032660</td>\n",
       "      <td>-0.080368</td>\n",
       "      <td>-0.342147</td>\n",
       "      <td>1.000000</td>\n",
       "      <td>-0.026073</td>\n",
       "    </tr>\n",
       "    <tr>\n",
       "      <th>grade of spondylolisthesis</th>\n",
       "      <td>0.638733</td>\n",
       "      <td>0.397840</td>\n",
       "      <td>0.533665</td>\n",
       "      <td>0.523571</td>\n",
       "      <td>-0.026073</td>\n",
       "      <td>1.000000</td>\n",
       "    </tr>\n",
       "  </tbody>\n",
       "</table>\n",
       "</div>"
      ],
      "text/plain": [
       "                            pelvic incidence  pelvic tilt  \\\n",
       "pelvic incidence                    1.000000     0.629186   \n",
       "pelvic tilt                         0.629186     1.000000   \n",
       "lumbar lordosis angle               0.717286     0.432760   \n",
       "sacral slope                        0.814959     0.062327   \n",
       "pelvic radius                      -0.247484     0.032660   \n",
       "grade of spondylolisthesis          0.638733     0.397840   \n",
       "\n",
       "                            lumbar lordosis angle  sacral slope  \\\n",
       "pelvic incidence                         0.717286      0.814959   \n",
       "pelvic tilt                              0.432760      0.062327   \n",
       "lumbar lordosis angle                    1.000000      0.598389   \n",
       "sacral slope                             0.598389      1.000000   \n",
       "pelvic radius                           -0.080368     -0.342147   \n",
       "grade of spondylolisthesis               0.533665      0.523571   \n",
       "\n",
       "                            pelvic radius  grade of spondylolisthesis  \n",
       "pelvic incidence                -0.247484                    0.638733  \n",
       "pelvic tilt                      0.032660                    0.397840  \n",
       "lumbar lordosis angle           -0.080368                    0.533665  \n",
       "sacral slope                    -0.342147                    0.523571  \n",
       "pelvic radius                    1.000000                   -0.026073  \n",
       "grade of spondylolisthesis      -0.026073                    1.000000  "
      ]
     },
     "execution_count": 88,
     "metadata": {},
     "output_type": "execute_result"
    }
   ],
   "source": [
    "vertebral_df.corr()"
   ]
  },
  {
   "cell_type": "markdown",
   "metadata": {},
   "source": [
    "#### Visualize the scatter plot for two columns that are positively correlated"
   ]
  },
  {
   "cell_type": "code",
   "execution_count": 101,
   "metadata": {},
   "outputs": [
    {
     "data": {
      "text/plain": [
       "<matplotlib.axes._subplots.AxesSubplot at 0x114bad748>"
      ]
     },
     "execution_count": 101,
     "metadata": {},
     "output_type": "execute_result"
    },
    {
     "data": {
      "image/png": "[encoded data removed]",
      "text/plain": [
       "<matplotlib.figure.Figure at 0x115078f60>"
      ]
     },
     "metadata": {},
     "output_type": "display_data"
    }
   ],
   "source": [
    "sns.regplot(vertebral_df['sacral slope'], vertebral_df['pelvic incidence'], fit_reg=False)"
   ]
  },
  {
   "cell_type": "code",
   "execution_count": 102,
   "metadata": {},
   "outputs": [
    {
     "data": {
      "text/plain": [
       "<matplotlib.axes._subplots.AxesSubplot at 0x1152a8160>"
      ]
     },
     "execution_count": 102,
     "metadata": {},
     "output_type": "execute_result"
    },
    {
     "data": {
      "image/png": "[encoded data removed]",
      "text/plain": [
       "<matplotlib.figure.Figure at 0x1152ba278>"
      ]
     },
     "metadata": {},
     "output_type": "display_data"
    }
   ],
   "source": [
    "vertebral_df.plot.scatter('sacral slope', 'pelvic incidence')"
   ]
  },
  {
   "cell_type": "markdown",
   "metadata": {},
   "source": [
    "#### Visualize the scatter plot for two columns that are negatively correlated"
   ]
  },
  {
   "cell_type": "code",
   "execution_count": 103,
   "metadata": {},
   "outputs": [
    {
     "data": {
      "text/plain": [
       "<matplotlib.axes._subplots.AxesSubplot at 0x1153654a8>"
      ]
     },
     "execution_count": 103,
     "metadata": {},
     "output_type": "execute_result"
    },
    {
     "data": {
      "image/png": "[encoded data removed]",
      "text/plain": [
       "<matplotlib.figure.Figure at 0x11540ea58>"
      ]
     },
     "metadata": {},
     "output_type": "display_data"
    }
   ],
   "source": [
    "sns.regplot(vertebral_df['sacral slope'], vertebral_df['pelvic radius'], fit_reg=False)"
   ]
  },
  {
   "cell_type": "code",
   "execution_count": 104,
   "metadata": {},
   "outputs": [
    {
     "data": {
      "text/plain": [
       "<matplotlib.axes._subplots.AxesSubplot at 0x115408da0>"
      ]
     },
     "execution_count": 104,
     "metadata": {},
     "output_type": "execute_result"
    },
    {
     "data": {
      "image/png": "[encoded data removed]",
      "text/plain": [
       "<matplotlib.figure.Figure at 0x115430278>"
      ]
     },
     "metadata": {},
     "output_type": "display_data"
    }
   ],
   "source": [
    "vertebral_df.plot.scatter('sacral slope', 'pelvic radius')"
   ]
  },
  {
   "cell_type": "code",
   "execution_count": null,
   "metadata": {
    "collapsed": true
   },
   "outputs": [],
   "source": []
  }
 ],
 "metadata": {
  "kernelspec": {
   "display_name": "Python 3",
   "language": "python",
   "name": "python3"
  },
  "language_info": {
   "codemirror_mode": {
    "name": "ipython",
    "version": 3
   },
   "file_extension": ".py",
   "mimetype": "text/x-python",
   "name": "python",
   "nbconvert_exporter": "python",
   "pygments_lexer": "ipython3",
   "version": "3.6.1"
  }
 },
 "nbformat": 4,
 "nbformat_minor": 2
}
